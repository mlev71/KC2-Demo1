{
 "cells": [
  {
   "cell_type": "markdown",
   "metadata": {},
   "source": [
    "# Perspective User: Bioinformatician\n",
    "Use case would be “A recent GWAS paper said genetic variant rs1361754 is important for heart health, I want to know if that rs-number effects gene expression a.k.a. has any eQTLs.\n",
    "\n",
    "#### Overview of Steps\n",
    "\n",
    "#1) Use the GUID **https://doi.org/10.25491/cq8s-f809** to download the GTEx file “GTEx_Analysis_v7_eQTL.tar.gz”\n",
    "#2) tar xf GTEx_Analysis_v7_eQTL.tar.gz\n",
    "#2) Convert the dbSNP variant id “rs1361754” to GTEx’s variant id “1_205801872_A_G_b37”\n",
    "#3) Grep all significant eQTLs with the variant id “1_205801872_A_G_b37” from all tissue files\n",
    "#4) Convert Gencode gene id’s in the grep results to HGNC gene symbols\n",
    "#5) Upload results to Cloud\n",
    "#6) Create a Minid for resulting file"
   ]
  },
  {
   "cell_type": "markdown",
   "metadata": {},
   "source": [
    "# Accessing the File from the Identifier \n",
    "- Resolve the identifier to the landing service\n",
    "- Find cloud locations from the landing page\n",
    "- Find cloud locations from json-ld Identifier Metadata"
   ]
  },
  {
   "cell_type": "markdown",
   "metadata": {},
   "source": [
    "## Landing Service\n",
    "\n",
    "https://doi.org/10.25491/cq8s-f809\n",
    "\n",
    "Resolves to the landing page\n",
    "\n",
    "https://ors.datacite.org/doi:/10.25491/cq8s-f809"
   ]
  },
  {
   "cell_type": "markdown",
   "metadata": {},
   "source": [
    "## Resolving Cloud Locations Through ORS\n",
    "\n",
    "Obtain an Access Code, through Oauth2 flow\n",
    "https://ors.datacite.org/login"
   ]
  },
  {
   "cell_type": "code",
   "execution_count": 1,
   "metadata": {},
   "outputs": [],
   "source": [
    "import requests\n",
    "import json\n",
    "\n",
    "get_response = requests.get(\n",
    "    url = 'https://ors.datacite.org/doi:/10.25491/cq8s-f809',\n",
    "    headers = {\"Accept\": \"application/ld+json\"}\n",
    ")"
   ]
  },
  {
   "cell_type": "code",
   "execution_count": 3,
   "metadata": {},
   "outputs": [
    {
     "data": {
      "text/plain": [
       "['https://storage.googleapis.com/gtex_analysis_v7/single_tissue_eqtl_data/GTEx_Analysis_v7_eQTL.tar.gz']"
      ]
     },
     "execution_count": 3,
     "metadata": {},
     "output_type": "execute_result"
    }
   ],
   "source": [
    "json.loads(get_response.content.decode('utf-8')).get('contentUrl')"
   ]
  },
  {
   "cell_type": "markdown",
   "metadata": {},
   "source": [
    "## Running the Use Case"
   ]
  },
  {
   "cell_type": "code",
   "execution_count": 5,
   "metadata": {},
   "outputs": [
    {
     "name": "stderr",
     "output_type": "stream",
     "text": [
      "  % Total    % Received % Xferd  Average Speed   Time    Time     Time  Current\n",
      "                                 Dload  Upload   Total   Spent    Left  Speed\n",
      "\r",
      "  0     0    0     0    0     0      0      0 --:--:-- --:--:-- --:--:--     0\r",
      "  0  915M    0 4094k    0     0  6779k      0  0:02:18 --:--:--  0:02:18 6768k\r",
      "  1  915M    1 15.1M    0     0  9694k      0  0:01:36  0:00:01  0:01:35 9688k\r",
      "  2  915M    2 26.3M    0     0  10.1M      0  0:01:30  0:00:02  0:01:28 10.1M\r",
      "  4  915M    4 37.4M    0     0  10.4M      0  0:01:27  0:00:03  0:01:24 10.4M\r",
      "  5  915M    5 48.5M    0     0  10.5M      0  0:01:26  0:00:04  0:01:22 10.5M\r",
      "  6  915M    6 59.7M    0     0  10.6M      0  0:01:25  0:00:05  0:01:20 11.1M\r",
      "  7  915M    7 70.9M    0     0  10.7M      0  0:01:25  0:00:06  0:01:19 11.1M\r",
      "  8  915M    8 82.1M    0     0  10.8M      0  0:01:24  0:00:07  0:01:17 11.1M\r",
      " 10  915M   10 93.3M    0     0  10.8M      0  0:01:24  0:00:08  0:01:16 11.1M\r",
      " 11  915M   11  103M    0     0  10.7M      0  0:01:25  0:00:09  0:01:16 10.9M\r",
      " 12  915M   12  114M    0     0  10.8M      0  0:01:24  0:00:10  0:01:14 10.9M\r",
      " 13  915M   13  125M    0     0  10.8M      0  0:01:24  0:00:11  0:01:13 10.9M\r",
      " 14  915M   14  136M    0     0  10.8M      0  0:01:24  0:00:12  0:01:12 10.9M\r",
      " 16  915M   16  147M    0     0  10.8M      0  0:01:24  0:00:13  0:01:11 10.9M\r",
      " 17  915M   17  156M    0     0  10.7M      0  0:01:25  0:00:14  0:01:11 10.7M\r",
      " 18  915M   18  168M    0     0  10.7M      0  0:01:24  0:00:15  0:01:09 10.7M\r",
      " 19  915M   19  179M    0     0  10.7M      0  0:01:24  0:00:16  0:01:08 10.7M\r",
      " 20  915M   20  190M    0     0  10.8M      0  0:01:24  0:00:17  0:01:07 10.7M\r",
      " 22  915M   22  201M    0     0  10.8M      0  0:01:24  0:00:18  0:01:06 10.7M\r",
      " 23  915M   23  212M    0     0  10.8M      0  0:01:24  0:00:19  0:01:05 11.1M\r",
      " 24  915M   24  224M    0     0  10.8M      0  0:01:24  0:00:20  0:01:04 11.1M\r",
      " 25  915M   25  235M    0     0  10.8M      0  0:01:24  0:00:21  0:01:03 11.1M\r",
      " 26  915M   26  246M    0     0  10.9M      0  0:01:23  0:00:22  0:01:01 11.1M\r",
      " 28  915M   28  257M    0     0  10.9M      0  0:01:23  0:00:23  0:01:00 11.1M\r",
      " 29  915M   29  266M    0     0  10.8M      0  0:01:24  0:00:24  0:01:00 10.7M\r",
      " 30  915M   30  277M    0     0  10.8M      0  0:01:24  0:00:25  0:00:59 10.7M\r",
      " 31  915M   31  288M    0     0  10.8M      0  0:01:24  0:00:26  0:00:58 10.7M\r",
      " 32  915M   32  300M    0     0  10.8M      0  0:01:24  0:00:27  0:00:57 10.7M\r",
      " 34  915M   34  311M    0     0  10.8M      0  0:01:24  0:00:28  0:00:56 10.7M\r",
      " 35  915M   35  321M    0     0  10.8M      0  0:01:24  0:00:29  0:00:55 11.0M\r",
      " 36  915M   36  333M    0     0  10.8M      0  0:01:24  0:00:30  0:00:54 11.0M\r",
      " 37  915M   37  344M    0     0  10.8M      0  0:01:24  0:00:31  0:00:53 11.0M\r",
      " 38  915M   38  355M    0     0  10.9M      0  0:01:23  0:00:32  0:00:51 11.0M\r",
      " 40  915M   40  366M    0     0  10.9M      0  0:01:23  0:00:33  0:00:50 11.0M\r",
      " 41  915M   41  375M    0     0  10.8M      0  0:01:24  0:00:34  0:00:50 10.7M\r",
      " 42  915M   42  386M    0     0  10.8M      0  0:01:24  0:00:35  0:00:49 10.7M\r",
      " 43  915M   43  397M    0     0  10.8M      0  0:01:24  0:00:36  0:00:48 10.7M\r",
      " 44  915M   44  409M    0     0  10.8M      0  0:01:24  0:00:37  0:00:47 10.7M\r",
      " 45  915M   45  420M    0     0  10.8M      0  0:01:24  0:00:38  0:00:46 10.7M\r",
      " 47  915M   47  430M    0     0  10.8M      0  0:01:24  0:00:39  0:00:45 11.0M\r",
      " 48  915M   48  441M    0     0  10.8M      0  0:01:24  0:00:40  0:00:44 11.0M\r",
      " 49  915M   49  453M    0     0  10.8M      0  0:01:24  0:00:41  0:00:43 11.0M\r",
      " 50  915M   50  464M    0     0  10.8M      0  0:01:23  0:00:42  0:00:41 11.0M\r",
      " 51  915M   51  475M    0     0  10.9M      0  0:01:23  0:00:43  0:00:40 11.0M\r",
      " 53  915M   53  486M    0     0  10.9M      0  0:01:23  0:00:44  0:00:39 11.1M\r",
      " 54  915M   54  495M    0     0  10.8M      0  0:01:24  0:00:45  0:00:39 10.7M\r",
      " 55  915M   55  506M    0     0  10.8M      0  0:01:24  0:00:46  0:00:38 10.7M\r",
      " 56  915M   56  517M    0     0  10.8M      0  0:01:24  0:00:47  0:00:37 10.7M\r",
      " 57  915M   57  529M    0     0  10.8M      0  0:01:24  0:00:48  0:00:36 10.7M\r",
      " 59  915M   59  540M    0     0  10.8M      0  0:01:24  0:00:49  0:00:35 10.7M\r",
      " 60  915M   60  551M    0     0  10.8M      0  0:01:23  0:00:50  0:00:33 11.1M\r",
      " 61  915M   61  562M    0     0  10.9M      0  0:01:23  0:00:51  0:00:32 11.1M\r",
      " 62  915M   62  573M    0     0  10.9M      0  0:01:23  0:00:52  0:00:31 11.1M\r",
      " 63  915M   63  585M    0     0  10.9M      0  0:01:23  0:00:53  0:00:30 11.1M\r",
      " 65  915M   65  596M    0     0  10.9M      0  0:01:23  0:00:54  0:00:29 11.1M\r",
      " 66  915M   66  605M    0     0  10.8M      0  0:01:24  0:00:55  0:00:29 10.7M\r",
      " 67  915M   67  616M    0     0  10.8M      0  0:01:24  0:00:56  0:00:28 10.7M\r",
      " 68  915M   68  627M    0     0  10.8M      0  0:01:24  0:00:57  0:00:27 10.7M\r",
      " 69  915M   69  638M    0     0  10.8M      0  0:01:23  0:00:58  0:00:25 10.7M\r",
      " 70  915M   70  649M    0     0  10.8M      0  0:01:24  0:00:59  0:00:25 10.6M\r",
      " 72  915M   72  660M    0     0  10.9M      0  0:01:23  0:01:00  0:00:23 11.0M\r",
      " 73  915M   73  671M    0     0  10.9M      0  0:01:23  0:01:01  0:00:22 11.0M\r",
      " 74  915M   74  682M    0     0  10.9M      0  0:01:23  0:01:02  0:00:21 11.0M\r",
      " 75  915M   75  694M    0     0  10.9M      0  0:01:23  0:01:03  0:00:20 11.0M\r",
      " 77  915M   77  705M    0     0  10.9M      0  0:01:23  0:01:04  0:00:19 11.1M\r",
      " 78  915M   78  714M    0     0  10.8M      0  0:01:24  0:01:05  0:00:19 10.7M\r",
      " 79  915M   79  725M    0     0  10.8M      0  0:01:24  0:01:06  0:00:18 10.7M\r",
      " 80  915M   80  736M    0     0  10.8M      0  0:01:23  0:01:07  0:00:16 10.7M\r",
      " 81  915M   81  746M    0     0  10.8M      0  0:01:24  0:01:08  0:00:16 10.4M\r",
      " 82  915M   82  756M    0     0  10.8M      0  0:01:24  0:01:09  0:00:15 10.3M\r",
      " 83  915M   83  768M    0     0  10.8M      0  0:01:24  0:01:10  0:00:14 10.7M\r",
      " 85  915M   85  779M    0     0  10.8M      0  0:01:24  0:01:11  0:00:13 10.7M\r",
      " 86  915M   86  790M    0     0  10.8M      0  0:01:24  0:01:12  0:00:12 10.7M\r",
      " 87  915M   87  801M    0     0  10.8M      0  0:01:24  0:01:13  0:00:11 11.0M\r",
      " 88  915M   88  812M    0     0  10.8M      0  0:01:24  0:01:14  0:00:10 11.1M\r",
      " 89  915M   89  821M    0     0  10.8M      0  0:01:24  0:01:15  0:00:09 10.7M\r",
      " 91  915M   91  832M    0     0  10.8M      0  0:01:24  0:01:16  0:00:08 10.7M\r",
      " 92  915M   92  844M    0     0  10.8M      0  0:01:24  0:01:17  0:00:07 10.7M\r",
      " 93  915M   93  855M    0     0  10.8M      0  0:01:24  0:01:18  0:00:06 10.7M\r",
      " 94  915M   94  866M    0     0  10.8M      0  0:01:24  0:01:19  0:00:05 10.7M\r",
      " 95  915M   95  877M    0     0  10.8M      0  0:01:24  0:01:20  0:00:04 11.1M\r",
      " 97  915M   97  888M    0     0  10.8M      0  0:01:24  0:01:21  0:00:03 11.1M\r",
      " 98  915M   98  899M    0     0  10.8M      0  0:01:24  0:01:22  0:00:02 11.1M\r",
      " 99  915M   99  910M    0     0  10.8M      0  0:01:24  0:01:23  0:00:01 11.1M\r",
      "100  915M  100  915M    0     0  10.8M      0  0:01:24  0:01:24 --:--:-- 11.1M\n"
     ]
    }
   ],
   "source": [
    "%%bash\n",
    "# Download the Analysis Summary Results\n",
    "curl -X GET https://storage.googleapis.com/gtex_analysis_v7/single_tissue_eqtl_data/GTEx_Analysis_v7_eQTL.tar.gz > GTEx_Analysis_v7_eQTL.tar.gz\n",
    "tar xf GTEx_Analysis_v7_eQTL.tar.gz"
   ]
  },
  {
   "cell_type": "code",
   "execution_count": 35,
   "metadata": {},
   "outputs": [
    {
     "name": "stderr",
     "output_type": "stream",
     "text": [
      "  % Total    % Received % Xferd  Average Speed   Time    Time     Time  Current\n",
      "                                 Dload  Upload   Total   Spent    Left  Speed\n",
      "\r",
      "  0     0    0     0    0     0      0      0 --:--:-- --:--:-- --:--:--     0\r",
      "100    22  100    22    0     0    173      0 --:--:-- --:--:-- --:--:--   173\n"
     ]
    }
   ],
   "source": [
    "%%bash\n",
    "# Convert dbSNP variant id “rs1361754” to GTEx’s variant id “1_205801872_A_G_b37”\n",
    "curl -k \"https://gtexportal.org/rest/v1/reference/variant?format=tsv&snpId=rs1361754&datasetId=gtex_v7\" > snp_reference.tsv\n",
    "snp=`cat snp_reference.tsv | awk '{print $(NF-1)}' | tail -n 1`\n",
    "\n",
    "# Shortcut for duration GTEx API is down\n",
    "snp='1_205801872_A_G_b37'\n",
    "\n",
    "# Grab all significant eQTLs from with variant id “1_205801872_A_G_b37”\n",
    "rs=\"rs1361754\"\n",
    "zgrep $snp GTEx_Analysis_v7_eQTL/*.v7.signif_variant_gene_pairs.txt.gz > ${rs}_Sig_eQTLs.tsv"
   ]
  },
  {
   "cell_type": "code",
   "execution_count": 36,
   "metadata": {},
   "outputs": [
    {
     "name": "stdout",
     "output_type": "stream",
     "text": [
      "Adipose_Subcutaneous\t\tHAVANA\t57284\t282\t379\t0.492208\t1.38088e-08\t0.251831\t0.0432154\t5.29333e-05\t8.27056e-36\t3.03426e-30\n",
      "Adipose_Subcutaneous\t\tHAVANA\t18996\t282\t379\t0.492208\t5.32804e-05\t0.13746\t0.0335557\t6.34316e-05\t1.29966e-05\t0.0277763\n",
      "Adipose_Subcutaneous\t\tHAVANA\t-17388\t282\t379\t0.492208\t5.42255e-31\t-0.768671\t0.0594839\t6.27343e-05\t2.30816e-57\t6.48817e-51\n",
      "Adipose_Visceral_Omentum\t\tHAVANA\t57284\t230\t295\t0.471246\t1.8797e-06\t0.192055\t0.0393847\t3.51241e-05\t2.54581e-22\t1.10673e-17\n",
      "Adipose_Visceral_Omentum\t\tHAVANA\t-17388\t230\t295\t0.471246\t2.98553e-30\t-0.81516\t0.0625338\t3.78067e-05\t9.3754e-49\t1.71294e-42\n",
      "Adrenal_Gland\t\tHAVANA\t-17388\t122\t160\t0.457143\t1.03308e-13\t-0.649344\t0.0785625\t2.33999e-05\t2.23639e-19\t2.73137e-15\n",
      "Artery_Aorta\t\tHAVANA\t57284\t197\t262\t0.490637\t2.02759e-09\t0.350166\t0.0559109\t4.13894e-05\t1.10871e-28\t1.2337e-23\n",
      "Artery_Aorta\t\tHAVANA\t-17388\t197\t262\t0.490637\t1.20771e-25\t-0.850754\t0.0710599\t3.80813e-05\t3.71202e-43\t4.0522e-37\n",
      "Artery_Coronary\t\tHAVANA\t57284\t114\t148\t0.486842\t5.87525e-06\t0.378108\t0.0795707\t1.48546e-05\t2.26204e-10\t6.80604e-07\n",
      "Artery_Coronary\t\tHAVANA\t-17388\t114\t148\t0.486842\t2.38669e-14\t-0.804944\t0.0922499\t1.50612e-05\t3.77845e-22\t8.25438e-18\n",
      "Artery_Tibial\t\tHAVANA\t82468\t288\t383\t0.493557\t5.48085e-05\t-0.0744834\t0.0182154\t5.99254e-05\t1.56076e-08\t4.94377e-05\n",
      "Artery_Tibial\t\tHAVANA\t57284\t288\t383\t0.493557\t4.90723e-12\t0.27742\t0.0386429\t6.22007e-05\t2.46703e-47\t1.60487e-40\n",
      "Artery_Tibial\t\tHAVANA\t-17388\t288\t383\t0.493557\t1.66229e-25\t-0.667369\t0.0585419\t6.39737e-05\t5.65146e-32\t5.60588e-27\n",
      "Brain_Frontal_Cortex_BA9\t\tHAVANA\t82468\t83\t111\t0.470339\t1.07486e-05\t-0.254241\t0.0547184\t1.98642e-05\t1.07486e-05\t0.0159234\n",
      "Brain_Frontal_Cortex_BA9\t\tHAVANA\t-17388\t83\t111\t0.470339\t1.80128e-05\t-0.561439\t0.124359\t1.86568e-05\t1.96529e-08\t3.34975e-05\n",
      "Brain_Hippocampus\t\tHAVANA\t-17388\t80\t104\t0.468468\t3.24358e-09\t-0.764529\t0.116305\t1.27164e-05\t8.88102e-14\t4.07851e-10\n",
      "Brain_Putamen_basal_ganglia\t\tHAVANA\t-17388\t77\t102\t0.459459\t2.79563e-07\t-0.619179\t0.111371\t1.5139e-05\t2.36638e-10\t5.10044e-07\n",
      "Brain_Spinal_cord_cervical_c-1\t\tHAVANA\t-17388\t58\t77\t0.463855\t3.10753e-10\t-0.886792\t0.118129\t1.08534e-05\t2.20346e-14\t5.70014e-11\n",
      "Breast_Mammary_Tissue\t\tHAVANA\t-17388\t185\t238\t0.474104\t1.95115e-22\t-0.771344\t0.0698196\t2.34764e-05\t3.62317e-40\t6.50104e-34\n",
      "Cells_EBV-transformed_lymphocytes\t\tHAVANA\t-17388\t82\t107\t0.457265\t6.16171e-06\t-0.496279\t0.103631\t1.4303e-05\t3.77913e-06\t0.0066091\n",
      "Cells_Transformed_fibroblasts\t\tHAVANA\t57284\t219\t293\t0.488333\t5.79533e-12\t0.232041\t0.0320725\t6.02188e-05\t1.07928e-27\t7.66013e-23\n",
      "Cells_Transformed_fibroblasts\t\tHAVANA\t-17388\t219\t293\t0.488333\t8.81166e-13\t-0.526967\t0.0698839\t5.78866e-05\t1.81478e-18\t2.20382e-14\n",
      "Colon_Sigmoid\t\tHAVANA\t-17388\t146\t192\t0.472906\t3.27129e-12\t-0.626052\t0.0832554\t2.73557e-05\t4.76276e-17\t3.87221e-13\n",
      "Colon_Transverse\t\tHAVANA\t82468\t173\t233\t0.473577\t1.56258e-06\t-0.127229\t0.0257294\t3.6088e-05\t7.14667e-07\t0.00164114\n",
      "Colon_Transverse\t\tHAVANA\t-17388\t173\t233\t0.473577\t5.74293e-23\t-0.722669\t0.0647965\t2.91737e-05\t3.80612e-31\t6.03132e-26\n",
      "Esophagus_Gastroesophageal_Junction\t\tHAVANA\t-17388\t156\t201\t0.471831\t5.03008e-16\t-0.761187\t0.085088\t3.0637e-05\t7.8047e-28\t2.40681e-23\n",
      "Esophagus_Mucosa\t\tHAVANA\t82468\t264\t348\t0.486034\t1.87148e-09\t-0.136018\t0.021919\t6.10068e-05\t1.7188e-12\t9.82087e-09\n",
      "Esophagus_Mucosa\t\tHAVANA\t57284\t264\t348\t0.486034\t5.2515e-10\t0.227894\t0.0354483\t5.18164e-05\t2.11712e-34\t1.28491e-28\n",
      "Esophagus_Mucosa\t\tHAVANA\t18996\t264\t348\t0.486034\t4.98788e-10\t0.205624\t0.0319398\t5.72828e-05\t4.60456e-17\t6.56257e-13\n",
      "Esophagus_Mucosa\t\tHAVANA\t-17388\t264\t348\t0.486034\t5.16094e-16\t-0.572332\t0.066582\t5.22203e-05\t9.81972e-27\t8.46178e-22\n",
      "Esophagus_Muscularis\t\tHAVANA\t82468\t237\t319\t0.476119\t4.50818e-05\t-0.100984\t0.0243674\t5.13198e-05\t6.4016e-10\t2.40561e-06\n",
      "Esophagus_Muscularis\t\tHAVANA\t57284\t237\t319\t0.476119\t9.15521e-09\t0.19244\t0.0324911\t6.11042e-05\t2.91306e-46\t4.43811e-40\n",
      "Esophagus_Muscularis\t\tHAVANA\t-17388\t237\t319\t0.476119\t3.21475e-17\t-0.58676\t0.0651447\t5.67122e-05\t1.67423e-32\t5.71925e-27\n",
      "Heart_Atrial_Appendage\t\tHAVANA\t-17388\t201\t262\t0.496212\t8.73408e-32\t-0.954768\t0.0684817\t3.54648e-05\t3.85222e-43\t1.70831e-36\n",
      "Heart_Left_Ventricle\t\tHAVANA\t-17388\t199\t266\t0.488971\t3.01906e-33\t-0.920196\t0.0643383\t3.13948e-05\t3.25618e-56\t6.17159e-50\n",
      "Liver\t\tHAVANA\t-17388\t114\t148\t0.48366\t4.43148e-07\t-0.587968\t0.109847\t1.3381e-05\t1.23876e-09\t3.19431e-06\n",
      "Lung\t\tHAVANA\t82468\t294\t380\t0.496084\t2.18245e-05\t-0.114119\t0.0264771\t5.27763e-05\t2.135e-08\t6.99842e-05\n",
      "Lung\t\tHAVANA\t57284\t294\t380\t0.496084\t3.42596e-06\t0.21511\t0.0455003\t4.74041e-05\t2.49976e-23\t1.36529e-18\n",
      "Lung\t\tHAVANA\t-17388\t294\t380\t0.496084\t3.69358e-31\t-0.789646\t0.0608508\t4.84709e-05\t1.13958e-44\t7.28277e-39\n",
      "Muscle_Skeletal\t\tHAVANA\t57284\t369\t487\t0.495927\t3.23343e-07\t0.158888\t0.0306018\t7.00946e-05\t1.45858e-41\t9.84995e-35\n",
      "Muscle_Skeletal\t\tHAVANA\t-17388\t369\t487\t0.495927\t2.28274e-12\t-0.441975\t0.061138\t5.55614e-05\t2.56476e-20\t4.20493e-16\n",
      "Nerve_Tibial\t\tHAVANA\t57284\t269\t354\t0.490305\t4.285e-10\t0.236989\t0.0366752\t6.56456e-05\t5.78057e-24\t8.31674e-19\n",
      "Nerve_Tibial\t\tHAVANA\t18996\t269\t354\t0.490305\t7.40418e-09\t0.167247\t0.0280847\t6.94302e-05\t3.2488e-10\t2.01965e-06\n",
      "Nerve_Tibial\t\tHAVANA\t-17388\t269\t354\t0.490305\t1.38129e-29\t-0.741861\t0.0586353\t8.76063e-05\t5.01616e-67\t1.35e-59\n",
      "Ovary\t\tHAVANA\t-17388\t82\t115\t0.471311\t1.55834e-10\t-0.690018\t0.0967057\t1.42209e-05\t3.53174e-22\t3.14675e-18\n",
      "Pancreas\t\tHAVANA\t18996\t154\t202\t0.459091\t5.63967e-15\t0.41119\t0.0482398\t3.12683e-05\t1.28105e-30\t1.64542e-25\n",
      "Pancreas\t\tHAVANA\t-17388\t154\t202\t0.459091\t1.6851e-24\t-0.778775\t0.065546\t3.4405e-05\t2.64833e-41\t1.60478e-35\n",
      "Pituitary\t\tHAVANA\t-17388\t114\t148\t0.471338\t2.36229e-12\t-0.759253\t0.0971705\t2.13854e-05\t2.50446e-15\t1.54669e-11\n",
      "Prostate\t\tHAVANA\t-17388\t94\t128\t0.484848\t5.15441e-08\t-0.60178\t0.102881\t1.38542e-05\t6.40384e-10\t1.24423e-06\n",
      "Skin_Not_Sun_Exposed_Suprapubic\t\tHAVANA\t82468\t247\t320\t0.477612\t4.43865e-05\t-0.124439\t0.0299997\t5.55982e-05\t1.59626e-11\t9.48131e-08\n",
      "Skin_Not_Sun_Exposed_Suprapubic\t\tHAVANA\t57284\t247\t320\t0.477612\t1.65807e-05\t0.18644\t0.042546\t5.63249e-05\t1.91764e-23\t8.54216e-19\n",
      "Skin_Not_Sun_Exposed_Suprapubic\t\tHAVANA\t-17388\t247\t320\t0.477612\t2.36289e-08\t-0.250626\t0.0436196\t4.65452e-05\t2.98193e-11\t1.49183e-07\n",
      "Skin_Sun_Exposed_Lower_leg\t\tHAVANA\t152285\t300\t392\t0.47343\t2.1895e-05\t-0.162339\t0.0377227\t7.36451e-05\t7.77748e-12\t5.79851e-08\n",
      "Skin_Sun_Exposed_Lower_leg\t\tHAVANA\t82468\t300\t392\t0.47343\t5.15694e-09\t-0.138792\t0.0231584\t6.81847e-05\t1.22611e-13\t1.35092e-09\n",
      "Skin_Sun_Exposed_Lower_leg\t\tHAVANA\t57284\t300\t392\t0.47343\t4.36261e-09\t0.206861\t0.0343445\t6.84094e-05\t1.16508e-36\t3.75533e-30\n",
      "Skin_Sun_Exposed_Lower_leg\t\tHAVANA\t-17388\t300\t392\t0.47343\t2.69389e-06\t-0.227624\t0.0477012\t7.35086e-05\t3.5063e-10\t1.94938e-06\n",
      "Small_Intestine_Terminal_Ileum\t\tHAVANA\t-17388\t85\t118\t0.483607\t6.3571e-09\t-0.575748\t0.0906546\t1.86902e-05\t1.84313e-18\t9.47723e-15\n",
      "Spleen\t\tHAVANA\t-17388\t102\t138\t0.472603\t3.1411e-17\t-0.777853\t0.079073\t1.96542e-05\t6.88672e-29\t3.13565e-24\n",
      "Stomach\t\tHAVANA\t57284\t165\t221\t0.466245\t3.11151e-06\t0.255921\t0.053325\t2.40499e-05\t7.51013e-22\t2.00488e-17\n",
      "Stomach\t\tHAVANA\t-17388\t165\t221\t0.466245\t2.11146e-22\t-0.657071\t0.0595764\t2.23661e-05\t1.47678e-42\t2.77639e-37\n",
      "Testis\t\tHAVANA\t82468\t162\t215\t0.477778\t9.40125e-07\t-0.132935\t0.0262099\t3.8475e-05\t5.10204e-10\t1.77255e-06\n",
      "Testis\t\tHAVANA\t-17388\t162\t215\t0.477778\t1.31621e-09\t-0.498063\t0.0780201\t3.44939e-05\t5.64759e-12\t2.72183e-08\n",
      "Thyroid\t\tHAVANA\t82468\t293\t387\t0.484962\t4.85464e-15\t-0.213026\t0.0259371\t7.50487e-05\t2.03208e-26\t2.49879e-21\n",
      "Thyroid\t\tHAVANA\t57284\t293\t387\t0.484962\t2.43633e-07\t0.187455\t0.0355568\t7.48699e-05\t2.41667e-30\t3.88337e-25\n",
      "Thyroid\t\tHAVANA\t18996\t293\t387\t0.484962\t8.01241e-07\t0.170184\t0.0338279\t6.89113e-05\t2.878e-09\t9.63482e-06\n",
      "Thyroid\t\tHAVANA\t-17388\t293\t387\t0.484962\t3.23545e-46\t-0.896969\t0.0534366\t8.20899e-05\t6.32695e-70\t8.19685e-61\n",
      "Uterus\t\tHAVANA\t-17388\t69\t94\t0.465347\t5.92779e-07\t-0.598429\t0.110121\t8.6949e-06\t1.03437e-10\t2.06963e-07\n",
      "Vagina\t\tHAVANA\t-17388\t72\t102\t0.481132\t8.05067e-08\t-0.598139\t0.101716\t7.1915e-06\t1.36755e-09\t2.37719e-06\n",
      "Whole_Blood\t\tHAVANA\t57284\t265\t356\t0.482385\t4.41077e-15\t0.263811\t0.0319117\t4.02671e-05\t3.68604e-21\t1.19184e-16\n",
      "Whole_Blood\t\tHAVANA\t18996\t265\t356\t0.482385\t7.13962e-06\t0.090604\t0.0198287\t4.17531e-05\t1.65608e-08\t5.78651e-05\n",
      "Whole_Blood\t\tHAVANA\t-17388\t265\t356\t0.482385\t2.49268e-24\t-0.588196\t0.0528632\t4.53227e-05\t3.17458e-45\t3.8022e-39\n"
     ]
    },
    {
     "name": "stderr",
     "output_type": "stream",
     "text": [
      "Use of uninitialized value $a[1] in join or string at - line 36, <> line 1.\n",
      "Use of uninitialized value $a[1] in join or string at - line 36, <> line 2.\n",
      "Use of uninitialized value $a[1] in join or string at - line 36, <> line 3.\n",
      "Use of uninitialized value $a[1] in join or string at - line 36, <> line 4.\n",
      "Use of uninitialized value $a[1] in join or string at - line 36, <> line 5.\n",
      "Use of uninitialized value $a[1] in join or string at - line 36, <> line 6.\n",
      "Use of uninitialized value $a[1] in join or string at - line 36, <> line 7.\n",
      "Use of uninitialized value $a[1] in join or string at - line 36, <> line 8.\n",
      "Use of uninitialized value $a[1] in join or string at - line 36, <> line 9.\n",
      "Use of uninitialized value $a[1] in join or string at - line 36, <> line 10.\n",
      "Use of uninitialized value $a[1] in join or string at - line 36, <> line 11.\n",
      "Use of uninitialized value $a[1] in join or string at - line 36, <> line 12.\n",
      "Use of uninitialized value $a[1] in join or string at - line 36, <> line 13.\n",
      "Use of uninitialized value $a[1] in join or string at - line 36, <> line 14.\n",
      "Use of uninitialized value $a[1] in join or string at - line 36, <> line 15.\n",
      "Use of uninitialized value $a[1] in join or string at - line 36, <> line 16.\n",
      "Use of uninitialized value $a[1] in join or string at - line 36, <> line 17.\n",
      "Use of uninitialized value $a[1] in join or string at - line 36, <> line 18.\n",
      "Use of uninitialized value $a[1] in join or string at - line 36, <> line 19.\n",
      "Use of uninitialized value $a[1] in join or string at - line 36, <> line 20.\n",
      "Use of uninitialized value $a[1] in join or string at - line 36, <> line 21.\n",
      "Use of uninitialized value $a[1] in join or string at - line 36, <> line 22.\n",
      "Use of uninitialized value $a[1] in join or string at - line 36, <> line 23.\n",
      "Use of uninitialized value $a[1] in join or string at - line 36, <> line 24.\n",
      "Use of uninitialized value $a[1] in join or string at - line 36, <> line 25.\n",
      "Use of uninitialized value $a[1] in join or string at - line 36, <> line 26.\n",
      "Use of uninitialized value $a[1] in join or string at - line 36, <> line 27.\n",
      "Use of uninitialized value $a[1] in join or string at - line 36, <> line 28.\n",
      "Use of uninitialized value $a[1] in join or string at - line 36, <> line 29.\n",
      "Use of uninitialized value $a[1] in join or string at - line 36, <> line 30.\n",
      "Use of uninitialized value $a[1] in join or string at - line 36, <> line 31.\n",
      "Use of uninitialized value $a[1] in join or string at - line 36, <> line 32.\n",
      "Use of uninitialized value $a[1] in join or string at - line 36, <> line 33.\n",
      "Use of uninitialized value $a[1] in join or string at - line 36, <> line 34.\n",
      "Use of uninitialized value $a[1] in join or string at - line 36, <> line 35.\n",
      "Use of uninitialized value $a[1] in join or string at - line 36, <> line 36.\n",
      "Use of uninitialized value $a[1] in join or string at - line 36, <> line 37.\n",
      "Use of uninitialized value $a[1] in join or string at - line 36, <> line 38.\n",
      "Use of uninitialized value $a[1] in join or string at - line 36, <> line 39.\n",
      "Use of uninitialized value $a[1] in join or string at - line 36, <> line 40.\n",
      "Use of uninitialized value $a[1] in join or string at - line 36, <> line 41.\n",
      "Use of uninitialized value $a[1] in join or string at - line 36, <> line 42.\n",
      "Use of uninitialized value $a[1] in join or string at - line 36, <> line 43.\n",
      "Use of uninitialized value $a[1] in join or string at - line 36, <> line 44.\n",
      "Use of uninitialized value $a[1] in join or string at - line 36, <> line 45.\n",
      "Use of uninitialized value $a[1] in join or string at - line 36, <> line 46.\n",
      "Use of uninitialized value $a[1] in join or string at - line 36, <> line 47.\n",
      "Use of uninitialized value $a[1] in join or string at - line 36, <> line 48.\n",
      "Use of uninitialized value $a[1] in join or string at - line 36, <> line 49.\n",
      "Use of uninitialized value $a[1] in join or string at - line 36, <> line 50.\n",
      "Use of uninitialized value $a[1] in join or string at - line 36, <> line 51.\n",
      "Use of uninitialized value $a[1] in join or string at - line 36, <> line 52.\n",
      "Use of uninitialized value $a[1] in join or string at - line 36, <> line 53.\n",
      "Use of uninitialized value $a[1] in join or string at - line 36, <> line 54.\n",
      "Use of uninitialized value $a[1] in join or string at - line 36, <> line 55.\n",
      "Use of uninitialized value $a[1] in join or string at - line 36, <> line 56.\n",
      "Use of uninitialized value $a[1] in join or string at - line 36, <> line 57.\n",
      "Use of uninitialized value $a[1] in join or string at - line 36, <> line 58.\n",
      "Use of uninitialized value $a[1] in join or string at - line 36, <> line 59.\n",
      "Use of uninitialized value $a[1] in join or string at - line 36, <> line 60.\n",
      "Use of uninitialized value $a[1] in join or string at - line 36, <> line 61.\n",
      "Use of uninitialized value $a[1] in join or string at - line 36, <> line 62.\n",
      "Use of uninitialized value $a[1] in join or string at - line 36, <> line 63.\n",
      "Use of uninitialized value $a[1] in join or string at - line 36, <> line 64.\n",
      "Use of uninitialized value $a[1] in join or string at - line 36, <> line 65.\n",
      "Use of uninitialized value $a[1] in join or string at - line 36, <> line 66.\n",
      "Use of uninitialized value $a[1] in join or string at - line 36, <> line 67.\n",
      "Use of uninitialized value $a[1] in join or string at - line 36, <> line 68.\n",
      "Use of uninitialized value $a[1] in join or string at - line 36, <> line 69.\n",
      "Use of uninitialized value $a[1] in join or string at - line 36, <> line 70.\n",
      "Use of uninitialized value $a[1] in join or string at - line 36, <> line 71.\n"
     ]
    }
   ],
   "source": [
    "%%bash\n",
    "rs=\"rs1361754\"\n",
    "\n",
    "# Convert Gencode id's in the grep results to HGNC gene symbols\n",
    "zcat < GTEx_Analysis_v7_eQTL/Heart_Left_Ventricle.v7.signif_variant_gene_pairs.txt.gz | tail -n +2 | sed 's/^/tissue\\t/'  > ${rs}_Sig_eQTLs_Standard_IDs.tsv\n",
    "cat <<EOF | perl - ${rs}_Sig_eQTLs.tsv\n",
    "\n",
    "use strict;\n",
    "use warnings;\n",
    "\n",
    "my %s = ();\n",
    "my %g;\n",
    "\n",
    "\\$\" = \"\\t\";\n",
    "\n",
    "while(<>) {\n",
    "  chomp;\n",
    "  s#GTEx_Analysis_v7_eQTL/([A-Za-z0-9-_]+)\\.v7\\.signif_variant_gene_pairs\\.txt\\.gz:#\\$1\\t#;\n",
    "\n",
    "  my @a = split(/\\t/, \\$_);\n",
    "\n",
    "\n",
    "  if(exists \\$s{\\$a[1]}) {\n",
    "    \\$a[1] = \\$s{\\$a[1]};\n",
    "  } else {\n",
    "  \n",
    "    \\$a[1]     = \\`curl -k \"https://gtexportal.org/rest/v1/reference/variant?format=tsv&variantId=\\$a[1]&datasetId=gtex_v7\" 2>/dev/null | tail -n 1\\`;\n",
    "    my @b     = split(/\\t/, \\$a[1]);\n",
    "    \\$s{\\$a[1]} = \\$b[6];\n",
    "    \\$a[1]     = \\$b[6];\n",
    "  }\n",
    "\n",
    "  if(exists \\$g{\\$a[2]}) {\n",
    "    \\$a[2] = \\$g{\\$a[2]};\n",
    "  } else {\n",
    "    \\$a[2]     = \\`curl -k \"https://gtexportal.org/rest/v1/reference/gene?format=tsv&gencodeVersion=v19&genomeBuild=GRCh37/hg19&geneId=\\$a[2]\" 2>/dev/null | tail -n 1\\`;\n",
    "    my @b     = split(/\\t/, \\$a[2]);\n",
    "    \\$g{\\$a[2]} = \\$b[1];\n",
    "    \\$a[2]     = \\$b[1];\n",
    "  }\n",
    "\n",
    "  print \"@a\\n\";\n",
    "}\n"
   ]
  },
  {
   "cell_type": "markdown",
   "metadata": {},
   "source": [
    "## Uploading the File to the Cloud\n",
    "\n",
    "In place of a permenant data repository or storage within a fullstack, we will upload our results to a public bucket on AWS"
   ]
  },
  {
   "cell_type": "code",
   "execution_count": 1,
   "metadata": {},
   "outputs": [],
   "source": [
    "import boto3\n",
    "s3_client = boto3.client(\"s3\")\n",
    "\n",
    "# create a public bucket\n",
    "bucket = s3.create_bucket(Bucket='dcppctest')\n",
    "bucket.set_acl('public-read')\n",
    "\n",
    "# create public object\n",
    "with open(\"rs1361754_Sig_eQTLs.tsv\", \"rb\") as resultFile:\n",
    "    s3_client.upload_fileobj(resultFile, \"dcppctest\", \"rs1361754_Sig_eQTLs.tsv\", \n",
    "                             ExtraArgs={'ACL':'public-read'})"
   ]
  },
  {
   "cell_type": "markdown",
   "metadata": {},
   "source": [
    "## Minting A Minid\n",
    "\n",
    "Metadata fields are mapped to schema.org as described in the KC2 Core metadata spec"
   ]
  },
  {
   "cell_type": "code",
   "execution_count": 9,
   "metadata": {},
   "outputs": [],
   "source": [
    "# preform a md5 checksum\n",
    "import hashlib\n",
    "\n",
    "md5 = hashlib.md5()\n",
    "with open('rs1361754_Sig_eQTLs.tsv', 'r') as analysis_file:\n",
    "    md5.update(analysis_file.read().encode('utf-8'))\n",
    "    \n",
    "analysis_md5 = md5.hexdigest()"
   ]
  },
  {
   "cell_type": "code",
   "execution_count": 12,
   "metadata": {},
   "outputs": [
    {
     "data": {
      "text/plain": [
       "{'@id': 'ark:/13030/d3sodiumtest',\n",
       " 'author': 'Max Levinson',\n",
       " 'checksum': 'cd1c9c120df5460ae556c083a5b8ff89',\n",
       " 'checksumMethod': 'md5',\n",
       " 'contentUrl': ['http://s3.amazonaws.com/dcppctest/rs1361754_Sig_eQTLs.tsv'],\n",
       " 'dateCreated': '7/13/18',\n",
       " 'identifier': 'ark:/13030/d3sodiumtest',\n",
       " 'name': 'Significant eQTLs of rs1361754',\n",
       " 'url': 'https://ors.datacite.org/ark:/13030/d3sodiumtest'}"
      ]
     },
     "execution_count": 12,
     "metadata": {},
     "output_type": "execute_result"
    }
   ],
   "source": [
    "analysis = {\n",
    "    \"@id\": \"ark:/13030/d3sodiumtest\",\n",
    "    \"identifier\": \"ark:/13030/d3sodiumtest\",\n",
    "    \"checksum\": analysis_md5,\n",
    "    \"checksumMethod\": \"md5\",\n",
    "    \"url\": \"https://ors.datacite.org/ark:/13030/d3sodiumtest\",\n",
    "    \"dateCreated\": \"7/13/18\",\n",
    "    \"contentUrl\": [\"http://s3.amazonaws.com/dcppctest/rs1361754_Sig_eQTLs.tsv\"],\n",
    "    \"name\": \"Significant eQTLs of rs1361754\",\n",
    "    \"author\": \"Max Levinson\",\n",
    "}\n",
    "analysis"
   ]
  },
  {
   "cell_type": "code",
   "execution_count": 30,
   "metadata": {},
   "outputs": [
    {
     "data": {
      "text/plain": [
       "{'@id': 'ark:/13030/d3sodiumtest',\n",
       " 'code': 200,\n",
       " 'message': 'Succsessfully Updated all Identifier metadata ark:/13030/d3sodiumtest',\n",
       " 'updated_keys': ['NIHdc.id',\n",
       "  'NIHdc.identifier',\n",
       "  'NIHdc.checksum',\n",
       "  'NIHdc.checksumMethod',\n",
       "  'NIHdc.url',\n",
       "  'NIHdc.dateCreated',\n",
       "  'NIHdc.contentUrl',\n",
       "  'NIHdc.name',\n",
       "  'NIHdc.author',\n",
       "  '_target',\n",
       "  '_status',\n",
       "  '_profile']}"
      ]
     },
     "execution_count": 30,
     "metadata": {},
     "output_type": "execute_result"
    }
   ],
   "source": [
    "ACCESS = \"?code=TEST\"\n",
    "response = requests.put(\n",
    "    url = \"https://ors.datacite.org/ark/put\"+ACCESS+\"&status=public\",\n",
    "    data = json.dumps(analysis)\n",
    ")\n",
    "json.loads(response.content.decode('utf-8'))"
   ]
  },
  {
   "cell_type": "markdown",
   "metadata": {},
   "source": [
    "## Analysis now has a landing page!\n",
    "\n",
    "https://n2t.net/ark:/13030/d3sodiumtest resolves to our landing page\n",
    "\n",
    "https://ors.datacite.org/ark:/13030/d3sodiumtest"
   ]
  },
  {
   "cell_type": "code",
   "execution_count": 28,
   "metadata": {},
   "outputs": [],
   "source": [
    "# get the location from the identifier\n",
    "ors_get_ark = requests.get(\n",
    "    url = \"https://ors.datacite.org/ark:/13030/d3sodiumtest\",\n",
    "    headers = {\"Accept\": \"application/ld+json\"}\n",
    ")"
   ]
  },
  {
   "cell_type": "code",
   "execution_count": 29,
   "metadata": {},
   "outputs": [
    {
     "data": {
      "text/plain": [
       "{'@context': 'https://schema.org',\n",
       " '@id': 'https://n2t.net/ark:/13030/d3sodiumtest',\n",
       " 'author': 'Max Levinson',\n",
       " 'checksum': 'cd1c9c120df5460ae556c083a5b8ff89',\n",
       " 'checksumMethod': 'md5',\n",
       " 'contentUrl': 'http://s3.amazonaws.com/dcppctest/rs1361754_Sig_eQTLs.tsv',\n",
       " 'dateCreated': '7/13/18',\n",
       " 'identifier': 'https://n2t.net/ark:/13030/d3sodiumtest',\n",
       " 'name': 'Significant eQTLs of rs1361754',\n",
       " 'url': 'https://ors.datacite.org/ark:/13030/d3sodiumtest'}"
      ]
     },
     "execution_count": 29,
     "metadata": {},
     "output_type": "execute_result"
    }
   ],
   "source": [
    "json.loads(ors_get_ark.content.decode('utf-8'))"
   ]
  }
 ],
 "metadata": {
  "kernelspec": {
   "display_name": "Python 3",
   "language": "python",
   "name": "python3"
  },
  "language_info": {
   "codemirror_mode": {
    "name": "ipython",
    "version": 3
   },
   "file_extension": ".py",
   "mimetype": "text/x-python",
   "name": "python",
   "nbconvert_exporter": "python",
   "pygments_lexer": "ipython3",
   "version": "3.6.4"
  }
 },
 "nbformat": 4,
 "nbformat_minor": 2
}
